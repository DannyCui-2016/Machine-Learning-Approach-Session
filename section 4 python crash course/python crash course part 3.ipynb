{
 "cells": [
  {
   "cell_type": "code",
   "execution_count": 58,
   "id": "021397a5",
   "metadata": {},
   "outputs": [],
   "source": [
    "s = \"hi there sam\""
   ]
  },
  {
   "cell_type": "code",
   "execution_count": 59,
   "id": "77e4b842",
   "metadata": {},
   "outputs": [
    {
     "data": {
      "text/plain": [
       "['hi', 'there', 'sam']"
      ]
     },
     "execution_count": 59,
     "metadata": {},
     "output_type": "execute_result"
    }
   ],
   "source": [
    "s.split()"
   ]
  },
  {
   "cell_type": "code",
   "execution_count": 60,
   "id": "a3784051",
   "metadata": {},
   "outputs": [
    {
     "data": {
      "text/plain": [
       "2401"
      ]
     },
     "execution_count": 60,
     "metadata": {},
     "output_type": "execute_result"
    }
   ],
   "source": [
    "7 ** 4"
   ]
  },
  {
   "cell_type": "code",
   "execution_count": 61,
   "id": "04274c6b",
   "metadata": {},
   "outputs": [],
   "source": [
    "planet = \"earth\"\n",
    "diameter = 12742"
   ]
  },
  {
   "cell_type": "code",
   "execution_count": 62,
   "id": "63181530",
   "metadata": {},
   "outputs": [],
   "source": [
    "def domainGet(email):\n",
    "    return email.split('@')[1]"
   ]
  },
  {
   "cell_type": "code",
   "execution_count": 63,
   "id": "f78da2bf",
   "metadata": {},
   "outputs": [
    {
     "data": {
      "text/plain": [
       "'domain.com'"
      ]
     },
     "execution_count": 63,
     "metadata": {},
     "output_type": "execute_result"
    }
   ],
   "source": [
    "domainGet('user@domain.com')"
   ]
  },
  {
   "cell_type": "code",
   "execution_count": 64,
   "id": "ee3c8f8e",
   "metadata": {},
   "outputs": [],
   "source": [
    "def findDog(s):\n",
    "    return 'dog' in s.lower().split()"
   ]
  },
  {
   "cell_type": "code",
   "execution_count": 65,
   "id": "a2fb841a",
   "metadata": {},
   "outputs": [
    {
     "data": {
      "text/plain": [
       "True"
      ]
     },
     "execution_count": 65,
     "metadata": {},
     "output_type": "execute_result"
    }
   ],
   "source": [
    "findDog('is there a dog here?')"
   ]
  },
  {
   "cell_type": "code",
   "execution_count": 66,
   "id": "d6736476",
   "metadata": {},
   "outputs": [],
   "source": [
    "s = 'is there a dog here?'"
   ]
  },
  {
   "cell_type": "code",
   "execution_count": 67,
   "id": "8403d3cc",
   "metadata": {},
   "outputs": [
    {
     "data": {
      "text/plain": [
       "['is', 'there', 'a', 'dog', 'here?']"
      ]
     },
     "execution_count": 67,
     "metadata": {},
     "output_type": "execute_result"
    }
   ],
   "source": [
    "s.lower().split()"
   ]
  },
  {
   "cell_type": "code",
   "execution_count": 68,
   "id": "ca2be142",
   "metadata": {},
   "outputs": [],
   "source": [
    "def countDog(st):\n",
    "    count = 0\n",
    "    for word in st.lower().split():\n",
    "        if word == 'dog':\n",
    "            count = count + 1\n",
    "    return count"
   ]
  },
  {
   "cell_type": "code",
   "execution_count": 69,
   "id": "163df065",
   "metadata": {},
   "outputs": [
    {
     "data": {
      "text/plain": [
       "3"
      ]
     },
     "execution_count": 69,
     "metadata": {},
     "output_type": "execute_result"
    }
   ],
   "source": [
    "countDog('i have a dog , the name of the dog is dog 1')"
   ]
  },
  {
   "cell_type": "code",
   "execution_count": 70,
   "id": "9abec586",
   "metadata": {},
   "outputs": [],
   "source": [
    "seq = ['soup', 'your dog', 'salad']"
   ]
  },
  {
   "cell_type": "code",
   "execution_count": 71,
   "id": "d1a2eda6",
   "metadata": {},
   "outputs": [
    {
     "data": {
      "text/plain": [
       "['soup', 'salad']"
      ]
     },
     "execution_count": 71,
     "metadata": {},
     "output_type": "execute_result"
    }
   ],
   "source": [
    "list(filter(lambda word: word[0]=='s',seq))"
   ]
  },
  {
   "cell_type": "code",
   "execution_count": 72,
   "id": "c29060de",
   "metadata": {},
   "outputs": [],
   "source": [
    "def caught_speeding(speed, is_birthday):\n",
    "    if is_birthday:\n",
    "        speed = speed - 5\n",
    "    else:\n",
    "        speed = speed\n",
    "\n",
    "    if speed > 80:\n",
    "            return'big ticket'\n",
    "    elif speed > 60:\n",
    "            return'small ticket'\n",
    "    else:\n",
    "       return'normal'\n"
   ]
  },
  {
   "cell_type": "code",
   "execution_count": 73,
   "id": "e10fae36",
   "metadata": {},
   "outputs": [
    {
     "data": {
      "text/plain": [
       "'small ticket'"
      ]
     },
     "execution_count": 73,
     "metadata": {},
     "output_type": "execute_result"
    }
   ],
   "source": [
    "caught_speeding(81,True)"
   ]
  },
  {
   "cell_type": "code",
   "execution_count": 74,
   "id": "98a927df",
   "metadata": {},
   "outputs": [
    {
     "data": {
      "text/plain": [
       "'big ticket'"
      ]
     },
     "execution_count": 74,
     "metadata": {},
     "output_type": "execute_result"
    }
   ],
   "source": [
    "caught_speeding(81,False)"
   ]
  },
  {
   "cell_type": "code",
   "execution_count": null,
   "id": "22ab0009",
   "metadata": {},
   "outputs": [],
   "source": []
  }
 ],
 "metadata": {
  "kernelspec": {
   "display_name": "Python 3",
   "language": "python",
   "name": "python3"
  },
  "language_info": {
   "codemirror_mode": {
    "name": "ipython",
    "version": 3
   },
   "file_extension": ".py",
   "mimetype": "text/x-python",
   "name": "python",
   "nbconvert_exporter": "python",
   "pygments_lexer": "ipython3",
   "version": "3.10.11"
  }
 },
 "nbformat": 4,
 "nbformat_minor": 5
}
