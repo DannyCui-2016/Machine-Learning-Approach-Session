{
 "cells": [
  {
   "cell_type": "code",
   "execution_count": null,
   "id": "2f5e9a04",
   "metadata": {},
   "outputs": [],
   "source": [
    "import matplotlib.pyplot as plt\n",
    "import numpy as np\n",
    "from sklearn.linear_model import LinearRegression\n",
    "\n",
    "# Simple plot\n",
    "x = [1, 2, 3, 4]\n",
    "y = [10, 20, 25, 30]\n",
    "plt.plot(x, y)\n",
    "plt.title(\"Example Plot\")\n",
    "plt.show()\n",
    "\n",
    "# NumPy array operation\n",
    "arr = np.array([1,2,3])\n",
    "print(\"Array squared:\", arr**2)\n",
    "\n",
    "# Dummy ML model\n",
    "X = np.array([[1],[2],[3],[4]])\n",
    "y = np.array([2,4,6,8])\n",
    "model = LinearRegression()\n",
    "model.fit(X, y)\n",
    "print(\"Prediction for 5:\", model.predict([[5]]))\n"
   ]
  },
  {
   "cell_type": "code",
   "execution_count": null,
   "id": "6085d397",
   "metadata": {},
   "outputs": [],
   "source": []
  },
  {
   "cell_type": "code",
   "execution_count": null,
   "id": "40ffe416",
   "metadata": {},
   "outputs": [],
   "source": []
  },
  {
   "cell_type": "code",
   "execution_count": null,
   "id": "47ce78d4",
   "metadata": {},
   "outputs": [],
   "source": []
  }
 ],
 "metadata": {
  "kernelspec": {
   "display_name": "Python 3",
   "language": "python",
   "name": "python3"
  },
  "language_info": {
   "name": "python",
   "version": "3.10.11"
  }
 },
 "nbformat": 4,
 "nbformat_minor": 5
}
