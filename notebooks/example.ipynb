{
 "cells": [
  {
   "cell_type": "code",
   "execution_count": null,
   "id": "2f5e9a04",
   "metadata": {},
   "outputs": [],
   "source": [
    "{\n",
    " \"cells\": [\n",
    "  {\n",
    "   \"cell_type\": \"code\",\n",
    "   \"execution_count\": null,\n",
    "   \"metadata\": {},\n",
    "   \"outputs\": [],\n",
    "   \"source\": [\n",
    "    \"import matplotlib.pyplot as plt\\n\",\n",
    "    \"import numpy as np\\n\",\n",
    "    \"from sklearn.linear_model import LinearRegression\\n\",\n",
    "    \"\\n\",\n",
    "    \"# Simple plot\\n\",\n",
    "    \"x = [1, 2, 3, 4]\\n\",\n",
    "    \"y = [10, 20, 25, 30]\\n\",\n",
    "    \"plt.plot(x, y)\\n\",\n",
    "    \"plt.title('Example Plot')\\n\",\n",
    "    \"plt.show()\\n\",\n",
    "    \"\\n\",\n",
    "    \"# NumPy array operation\\n\",\n",
    "    \"arr = np.array([1,2,3])\\n\",\n",
    "    \"print('Array squared:', arr**2)\\n\",\n",
    "    \"\\n\",\n",
    "    \"# Dummy ML model\\n\",\n",
    "    \"X = np.array([[1],[2],[3],[4]])\\n\",\n",
    "    \"y = np.array([2,4,6,8])\\n\",\n",
    "    \"model = LinearRegression()\\n\",\n",
    "    \"model.fit(X, y)\\n\",\n",
    "    \"print('Prediction for 5:', model.predict([[5]]))\"\n",
    "   ]\n",
    "  }\n",
    " ],\n",
    " \"metadata\": {\n",
    "  \"kernelspec\": {\n",
    "   \"display_name\": \"Python 3\",\n",
    "   \"language\": \"python\",\n",
    "   \"name\": \"python3\"\n",
    "  },\n",
    "  \"language_info\": {\n",
    "   \"name\": \"python\",\n",
    "   \"version\": \"3.10\"\n",
    "  }\n",
    " },\n",
    " \"nbformat\": 4,\n",
    " \"nbformat_minor\": 5\n",
    "}\n"
   ]
  },
  {
   "cell_type": "code",
   "execution_count": null,
   "id": "6085d397",
   "metadata": {},
   "outputs": [],
   "source": []
  },
  {
   "cell_type": "code",
   "execution_count": null,
   "id": "40ffe416",
   "metadata": {},
   "outputs": [],
   "source": []
  },
  {
   "cell_type": "code",
   "execution_count": null,
   "id": "47ce78d4",
   "metadata": {},
   "outputs": [],
   "source": []
  }
 ],
 "metadata": {
  "language_info": {
   "name": "python"
  }
 },
 "nbformat": 4,
 "nbformat_minor": 5
}
